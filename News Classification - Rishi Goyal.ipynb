{
 "cells": [
  {
   "cell_type": "code",
   "execution_count": 32,
   "id": "7edd6f87",
   "metadata": {},
   "outputs": [
    {
     "name": "stdout",
     "output_type": "stream",
     "text": [
      "Requirement already satisfied: nltk in d:\\apps\\anaconda\\lib\\site-packages (3.6.1)\n",
      "Requirement already satisfied: joblib in d:\\apps\\anaconda\\lib\\site-packages (from nltk) (1.0.1)\n",
      "Requirement already satisfied: tqdm in d:\\apps\\anaconda\\lib\\site-packages (from nltk) (4.59.0)\n",
      "Requirement already satisfied: click in d:\\apps\\anaconda\\lib\\site-packages (from nltk) (7.1.2)\n",
      "Requirement already satisfied: regex in d:\\apps\\anaconda\\lib\\site-packages (from nltk) (2021.4.4)\n",
      "Note: you may need to restart the kernel to use updated packages.\n"
     ]
    }
   ],
   "source": [
    "pip install nltk"
   ]
  },
  {
   "cell_type": "code",
   "execution_count": 33,
   "id": "b8eb7121",
   "metadata": {},
   "outputs": [],
   "source": [
    "import nltk"
   ]
  },
  {
   "cell_type": "code",
   "execution_count": 34,
   "id": "8fd32423",
   "metadata": {},
   "outputs": [
    {
     "name": "stderr",
     "output_type": "stream",
     "text": [
      "[nltk_data] Downloading package punkt to\n",
      "[nltk_data]     C:\\Users\\HP\\AppData\\Roaming\\nltk_data...\n",
      "[nltk_data]   Package punkt is already up-to-date!\n"
     ]
    },
    {
     "data": {
      "text/plain": [
       "True"
      ]
     },
     "execution_count": 34,
     "metadata": {},
     "output_type": "execute_result"
    }
   ],
   "source": [
    "nltk.download('punkt')"
   ]
  },
  {
   "cell_type": "code",
   "execution_count": 35,
   "id": "f55e48f3",
   "metadata": {},
   "outputs": [],
   "source": [
    "import pandas as pd"
   ]
  },
  {
   "cell_type": "code",
   "execution_count": 36,
   "id": "8fd635fa",
   "metadata": {},
   "outputs": [
    {
     "name": "stderr",
     "output_type": "stream",
     "text": [
      "Skipping line 3091: unexpected end of data\n",
      "Skipping line 3309: unexpected end of data\n"
     ]
    }
   ],
   "source": [
    "fake = pd.read_csv(\"Fake.csv\", engine='python', error_bad_lines=False)\n",
    "genuine = pd.read_csv(\"True.csv\", engine='python', error_bad_lines=False)"
   ]
  },
  {
   "cell_type": "code",
   "execution_count": 37,
   "id": "8a9ed375",
   "metadata": {},
   "outputs": [
    {
     "name": "stdout",
     "output_type": "stream",
     "text": [
      "<class 'pandas.core.frame.DataFrame'>\n",
      "RangeIndex: 3089 entries, 0 to 3088\n",
      "Data columns (total 4 columns):\n",
      " #   Column   Non-Null Count  Dtype \n",
      "---  ------   --------------  ----- \n",
      " 0   title    3089 non-null   object\n",
      " 1   text     3089 non-null   object\n",
      " 2   subject  3089 non-null   object\n",
      " 3   date     3089 non-null   object\n",
      "dtypes: object(4)\n",
      "memory usage: 96.7+ KB\n"
     ]
    },
    {
     "data": {
      "text/plain": [
       "None"
      ]
     },
     "metadata": {},
     "output_type": "display_data"
    }
   ],
   "source": [
    "display(fake.info())"
   ]
  },
  {
   "cell_type": "code",
   "execution_count": 38,
   "id": "62e55e87",
   "metadata": {},
   "outputs": [
    {
     "name": "stdout",
     "output_type": "stream",
     "text": [
      "<class 'pandas.core.frame.DataFrame'>\n",
      "RangeIndex: 3307 entries, 0 to 3306\n",
      "Data columns (total 4 columns):\n",
      " #   Column   Non-Null Count  Dtype \n",
      "---  ------   --------------  ----- \n",
      " 0   title    3307 non-null   object\n",
      " 1   text     3307 non-null   object\n",
      " 2   subject  3307 non-null   object\n",
      " 3   date     3307 non-null   object\n",
      "dtypes: object(4)\n",
      "memory usage: 103.5+ KB\n"
     ]
    },
    {
     "data": {
      "text/plain": [
       "None"
      ]
     },
     "metadata": {},
     "output_type": "display_data"
    }
   ],
   "source": [
    "display(genuine.info())"
   ]
  },
  {
   "cell_type": "code",
   "execution_count": 39,
   "id": "33aecafd",
   "metadata": {},
   "outputs": [],
   "source": [
    "fake['target']=0\n",
    "genuine['target']=1"
   ]
  },
  {
   "cell_type": "code",
   "execution_count": 40,
   "id": "651b4432",
   "metadata": {},
   "outputs": [],
   "source": [
    "data = pd.concat([fake, genuine], axis=0)"
   ]
  },
  {
   "cell_type": "code",
   "execution_count": 41,
   "id": "2698700d",
   "metadata": {},
   "outputs": [],
   "source": [
    "data=data.reset_index(drop=True)"
   ]
  },
  {
   "cell_type": "code",
   "execution_count": 42,
   "id": "1fa69997",
   "metadata": {},
   "outputs": [],
   "source": [
    "data=data.drop(['subject', 'date', 'title'], axis=1)"
   ]
  },
  {
   "cell_type": "code",
   "execution_count": 43,
   "id": "ff313e46",
   "metadata": {},
   "outputs": [
    {
     "name": "stdout",
     "output_type": "stream",
     "text": [
      "Index(['text', 'target'], dtype='object')\n"
     ]
    }
   ],
   "source": [
    "print(data.columns)"
   ]
  },
  {
   "cell_type": "code",
   "execution_count": 44,
   "id": "91b218e5",
   "metadata": {},
   "outputs": [],
   "source": [
    "from nltk.tokenize import word_tokenize"
   ]
  },
  {
   "cell_type": "code",
   "execution_count": 45,
   "id": "2cf82304",
   "metadata": {},
   "outputs": [],
   "source": [
    "data['text']=data['text'].apply(word_tokenize)"
   ]
  },
  {
   "cell_type": "code",
   "execution_count": 46,
   "id": "f69a45b8",
   "metadata": {},
   "outputs": [],
   "source": [
    "from nltk.stem.snowball import SnowballStemmer\n",
    "porter = SnowballStemmer(\"english\")"
   ]
  },
  {
   "cell_type": "code",
   "execution_count": 47,
   "id": "2723d2dc",
   "metadata": {},
   "outputs": [],
   "source": [
    "def stem_it(text):\n",
    "    return [porter.stem(word) for word in text]"
   ]
  },
  {
   "cell_type": "code",
   "execution_count": 48,
   "id": "6d9b6a0e",
   "metadata": {},
   "outputs": [],
   "source": [
    "data['text']=data['text'].apply(stem_it)"
   ]
  },
  {
   "cell_type": "code",
   "execution_count": 49,
   "id": "4cc93697",
   "metadata": {},
   "outputs": [],
   "source": [
    "data['text']=data['text'].apply(' '.join)"
   ]
  },
  {
   "cell_type": "code",
   "execution_count": 50,
   "id": "fe9f6630",
   "metadata": {},
   "outputs": [
    {
     "data": {
      "text/plain": [
       "1159    the world was stun when donald trump pull the ...\n",
       "3452    moscow ( reuter ) - the u.s. embassi to russia...\n",
       "3739    washington ( reuter ) - the republican and dem...\n",
       "6245    washington ( reuter ) - the trump administr pl...\n",
       "2523    donald trump may want to rethink his wall idea...\n",
       "Name: text, dtype: object"
      ]
     },
     "metadata": {},
     "output_type": "display_data"
    },
    {
     "name": "stdout",
     "output_type": "stream",
     "text": [
      "\n",
      "\n"
     ]
    },
    {
     "data": {
      "text/plain": [
       "1159    0\n",
       "3452    1\n",
       "3739    1\n",
       "6245    1\n",
       "2523    0\n",
       "Name: target, dtype: int64"
      ]
     },
     "metadata": {},
     "output_type": "display_data"
    }
   ],
   "source": [
    "from sklearn.model_selection import train_test_split\n",
    "X_train, X_test, Y_train, Y_test=train_test_split(data['text'], data['target'], test_size=0.25)\n",
    "display(X_train.head())\n",
    "print('\\n')\n",
    "display(Y_train.head())"
   ]
  },
  {
   "cell_type": "code",
   "execution_count": 51,
   "id": "745900ed",
   "metadata": {},
   "outputs": [],
   "source": [
    "from sklearn.feature_extraction.text import TfidfVectorizer\n",
    "my_tfidf = TfidfVectorizer(max_df=0.75)\n",
    "\n",
    "tfidf_train = my_tfidf.fit_transform(X_train)\n",
    "tfidf_test = my_tfidf.transform(X_test)"
   ]
  },
  {
   "cell_type": "code",
   "execution_count": 52,
   "id": "136d213e",
   "metadata": {},
   "outputs": [
    {
     "name": "stdout",
     "output_type": "stream",
     "text": [
      "  (0, 30751)\t0.023545720778660354\n",
      "  (0, 14690)\t0.021931387480068554\n",
      "  (0, 11410)\t0.02392384599290815\n",
      "  (0, 19835)\t0.039288462451353395\n",
      "  (0, 7433)\t0.04891219374723972\n",
      "  (0, 2909)\t0.036134640585537295\n",
      "  (0, 13093)\t0.03940039487739104\n",
      "  (0, 18173)\t0.024598987063682284\n",
      "  (0, 14060)\t0.016528178990926793\n",
      "  (0, 23870)\t0.0612987215024253\n",
      "  (0, 12897)\t0.03521716549615899\n",
      "  (0, 13407)\t0.021172811497089654\n",
      "  (0, 18082)\t0.07760124092470133\n",
      "  (0, 4179)\t0.05540043799161056\n",
      "  (0, 19549)\t0.021662509764594495\n",
      "  (0, 23691)\t0.04144855058841352\n",
      "  (0, 31661)\t0.06091467945222244\n",
      "  (0, 14243)\t0.03764145553030497\n",
      "  (0, 16179)\t0.023685380629027922\n",
      "  (0, 14327)\t0.03822111307052587\n",
      "  (0, 22540)\t0.033675912303733284\n",
      "  (0, 13498)\t0.06943998891211177\n",
      "  (0, 29222)\t0.05606621620077409\n",
      "  (0, 11782)\t0.06635908087693694\n",
      "  (0, 30647)\t0.03859492948980336\n",
      "  :\t:\n",
      "  (4796, 27733)\t0.049814292700224\n",
      "  (4796, 22006)\t0.022539670625999715\n",
      "  (4796, 20120)\t0.029560158648513142\n",
      "  (4796, 26073)\t0.07322835432964755\n",
      "  (4796, 29153)\t0.035646994583133376\n",
      "  (4796, 21075)\t0.04355519267023541\n",
      "  (4796, 23874)\t0.044354686709363496\n",
      "  (4796, 16736)\t0.029389958835051046\n",
      "  (4796, 31244)\t0.020457199993126406\n",
      "  (4796, 31572)\t0.020128529166321057\n",
      "  (4796, 31405)\t0.022920831850478\n",
      "  (4796, 12818)\t0.024937255841049003\n",
      "  (4796, 6993)\t0.37152365096910994\n",
      "  (4796, 6094)\t0.025962874418757893\n",
      "  (4796, 31491)\t0.055316363370716146\n",
      "  (4796, 4009)\t0.05220572116187815\n",
      "  (4796, 28714)\t0.08678518466818237\n",
      "  (4796, 28804)\t0.0587607005040872\n",
      "  (4796, 31351)\t0.06968453436030501\n",
      "  (4796, 29726)\t0.028069361673904804\n",
      "  (4796, 21085)\t0.027005062300705235\n",
      "  (4796, 3174)\t0.022487791004714063\n",
      "  (4796, 31438)\t0.04347918203210966\n",
      "  (4796, 13686)\t0.016673904279753064\n",
      "  (4796, 31422)\t0.022855512308958728\n"
     ]
    }
   ],
   "source": [
    "print(tfidf_train)"
   ]
  },
  {
   "cell_type": "code",
   "execution_count": 53,
   "id": "9d664b00",
   "metadata": {},
   "outputs": [],
   "source": [
    "from sklearn.linear_model import LogisticRegression\n",
    "from sklearn.metrics import accuracy_score"
   ]
  },
  {
   "cell_type": "code",
   "execution_count": 54,
   "id": "b931c0c3",
   "metadata": {},
   "outputs": [
    {
     "name": "stdout",
     "output_type": "stream",
     "text": [
      "98.49906191369607\n"
     ]
    }
   ],
   "source": [
    "model_1 = LogisticRegression(max_iter=800)\n",
    "model_1.fit(tfidf_train, Y_train)\n",
    "pred_1 = model_1.predict(tfidf_test)\n",
    "cr1 = accuracy_score(Y_test, pred_1)\n",
    "print(cr1*100)"
   ]
  },
  {
   "cell_type": "code",
   "execution_count": 55,
   "id": "d161d218",
   "metadata": {},
   "outputs": [
    {
     "data": {
      "text/plain": [
       "PassiveAggressiveClassifier(max_iter=80)"
      ]
     },
     "execution_count": 55,
     "metadata": {},
     "output_type": "execute_result"
    }
   ],
   "source": [
    "from sklearn.linear_model import PassiveAggressiveClassifier\n",
    "\n",
    "model = PassiveAggressiveClassifier(max_iter=80)\n",
    "model.fit(tfidf_train, Y_train)"
   ]
  },
  {
   "cell_type": "code",
   "execution_count": 56,
   "id": "fd8fdd51",
   "metadata": {},
   "outputs": [
    {
     "name": "stdout",
     "output_type": "stream",
     "text": [
      "The accuracy of prediction is  99.56222639149468\n"
     ]
    }
   ],
   "source": [
    "Y_pred = model.predict(tfidf_test)\n",
    "accscore = accuracy_score(Y_test, Y_pred)\n",
    "print('The accuracy of prediction is ', accscore*100)"
   ]
  },
  {
   "cell_type": "code",
   "execution_count": null,
   "id": "9ee7dc29",
   "metadata": {},
   "outputs": [],
   "source": []
  }
 ],
 "metadata": {
  "kernelspec": {
   "display_name": "Python 3",
   "language": "python",
   "name": "python3"
  },
  "language_info": {
   "codemirror_mode": {
    "name": "ipython",
    "version": 3
   },
   "file_extension": ".py",
   "mimetype": "text/x-python",
   "name": "python",
   "nbconvert_exporter": "python",
   "pygments_lexer": "ipython3",
   "version": "3.8.8"
  }
 },
 "nbformat": 4,
 "nbformat_minor": 5
}
